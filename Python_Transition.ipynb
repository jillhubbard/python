{
  "nbformat": 4,
  "nbformat_minor": 0,
  "metadata": {
    "colab": {
      "name": "Python Transition.ipynb",
      "provenance": [],
      "collapsed_sections": [],
      "include_colab_link": true
    },
    "kernelspec": {
      "name": "python3",
      "display_name": "Python 3"
    }
  },
  "cells": [
    {
      "cell_type": "markdown",
      "metadata": {
        "id": "view-in-github",
        "colab_type": "text"
      },
      "source": [
        "<a href=\"https://colab.research.google.com/github/jillhubbard/python/blob/master/Python_Transition.ipynb\" target=\"_parent\"><img src=\"https://colab.research.google.com/assets/colab-badge.svg\" alt=\"Open In Colab\"/></a>"
      ]
    },
    {
      "cell_type": "markdown",
      "metadata": {
        "id": "F0voq5IiSvW8",
        "colab_type": "text"
      },
      "source": [
        "\n",
        "# **C vs Python**"
      ]
    },
    {
      "cell_type": "markdown",
      "metadata": {
        "id": "TpPWirEFzwj6",
        "colab_type": "text"
      },
      "source": [
        "Welcome to our transition from the C programming language to Python! The major programming tools we developed in C - sequence (order of code!)selection (if/else if/else) and repetition (for/while/do-while) - all exist, in some form or another, in Python. The goal of this document - a Jupyter Notebook - is to provide you with a quick reference to some of the comaprisons we can make between Python and C along with some of the extra tools that Python provides. One important note as that Python is a very well documented language - you can generally find instructions and examples about accomplishing a task by looking the [Python Docs Tutorial](https://docs.python.org/3/tutorial/index.html)\n",
        "<br><br>\n",
        "Most of the Python code in this document can be editted and run multiple times to test what changes happen - so feel free to play around with this. Some cells are deliberate errors, and some just won't do anything!"
      ]
    },
    {
      "cell_type": "markdown",
      "metadata": {
        "id": "Pu2Sj9n8NxVf",
        "colab_type": "text"
      },
      "source": [
        "### **Basic Python Concepts**\n"
      ]
    },
    {
      "cell_type": "markdown",
      "metadata": {
        "id": "DVo3DrQqF-Qx",
        "colab_type": "text"
      },
      "source": [
        "\n",
        "First, Python is an interpreted language. You no longer have to compile (or recompile) with every change you make to your code.\n",
        "So you're done with this:\n",
        "![](https://drive.google.com/uc?export=view&id=1F4uLtgP0b7gF5KoTjKCEcZYZDVLCxv4r)\n",
        "Instead, to run a program at the terminal you simply type ```python3 filename.py``` -no compiling necessary!\n",
        "\n",
        "Second, in Python, whitespace is critical. A misplaced tab will cause a program to not run. All tabs should be the same number of spaces (for our style, 4 spaces = 1 tab). The benefit of this is that Python does not use { and }! Instead, blocks of code that are indented at the same level belong to the same structure. So C code that looks like this:\n",
        "```\n",
        "void is_even(int number)\n",
        "{\n",
        "    if (number % 2 == 0)\n",
        "    {\n",
        "        printf(\"Even!\\n\");\n",
        "    }\n",
        "    else\n",
        "    {\n",
        "        printf(\"Odd!\\n\");\n",
        "    }\n",
        "}\n",
        "```\n",
        "will look like this in Python:"
      ]
    },
    {
      "cell_type": "code",
      "metadata": {
        "id": "nbyIA2RYV_Tf",
        "colab_type": "code",
        "colab": {}
      },
      "source": [
        "def is_even(number):\n",
        "    if (number % 2 == 0):\n",
        "        print('Even!')\n",
        "    else:\n",
        "        print('Odd!')\n"
      ],
      "execution_count": 0,
      "outputs": []
    },
    {
      "cell_type": "markdown",
      "metadata": {
        "id": "YS1jyOel_4E7",
        "colab_type": "text"
      },
      "source": [
        "Another couple of important things to note here:\n",
        "\n",
        "\n",
        "1.   No semicolons at the end of lines! This is another place where whitespace matters.\n",
        "2.   Notice the print function - it automatically puts a newline at the end rather than requiring the ```\\n``` that C does.\n",
        "3.   The function doesn't have a return value - Python is DYNAMICALLY typed for both variables and the return values of functions. You no longer need to declare data types when creating variables (woohoo!).\n",
        "\n",
        "\n"
      ]
    },
    {
      "cell_type": "code",
      "metadata": {
        "id": "Fa6AEtVbA90Q",
        "colab_type": "code",
        "outputId": "b8e0b6ed-b1ef-4df2-ddbd-e801de30c9b9",
        "colab": {
          "base_uri": "https://localhost:8080/",
          "height": 84
        }
      },
      "source": [
        "# Create integer variable\n",
        "test = 5\n",
        "print(type(test))\n",
        "\n",
        "# Convert variable to string\n",
        "test = str(test)\n",
        "print(type(test))"
      ],
      "execution_count": 0,
      "outputs": [
        {
          "output_type": "stream",
          "text": [
            "<class 'int'>\n",
            "5\n",
            "<class 'str'>\n",
            "5\n"
          ],
          "name": "stdout"
        }
      ]
    },
    {
      "cell_type": "markdown",
      "metadata": {
        "id": "ekl-6IThDWoU",
        "colab_type": "text"
      },
      "source": [
        "As you can see above, single line comments in Python use a ```#``` rather than the ```//``` that C uses. Multiline comments in Python are generally only used to create 'docstrings' that explain what a user-created function does in more detail. The example of a longer comment below is from a Python version of the Game of Fifteen"
      ]
    },
    {
      "cell_type": "code",
      "metadata": {
        "id": "ENSdH_gxD-zg",
        "colab_type": "code",
        "colab": {}
      },
      "source": [
        "def won(dim):\n",
        "    '''\n",
        "    Check if board is in a winning state.\n",
        "    Iterate through each location and comapre with counter value\n",
        "    If values don't match, board isn't solved\n",
        "    '''\n",
        "    counter = 1\n",
        "    for row in range(dim):\n",
        "        for col in range(dim):\n",
        "            if (board[row][col] != counter):\n",
        "                return False\n",
        "            else:\n",
        "                counter = (counter + 1) % (dim * dim)\n",
        "    # If reach here, win!\n",
        "    return True"
      ],
      "execution_count": 0,
      "outputs": []
    },
    {
      "cell_type": "markdown",
      "metadata": {
        "id": "EAv_0uCbEUhO",
        "colab_type": "text"
      },
      "source": [
        "As you can see in the above snippet, much of the arithmetic that we used in C still applies. There is one important difference with divison, however. A single ```/``` does divison as we would normally expect with math - regardless of the data type of the operands. If we desire integer divison, use ```//```."
      ]
    },
    {
      "cell_type": "code",
      "metadata": {
        "id": "Yc1vo9XWEc5h",
        "colab_type": "code",
        "outputId": "bd7c2eaa-a52e-4084-a80a-005c786fdde4",
        "colab": {
          "base_uri": "https://localhost:8080/",
          "height": 50
        }
      },
      "source": [
        "print(5 / 2)\n",
        "print(5 // 2)"
      ],
      "execution_count": 0,
      "outputs": [
        {
          "output_type": "stream",
          "text": [
            "2.5\n",
            "2\n"
          ],
          "name": "stdout"
        }
      ]
    },
    {
      "cell_type": "markdown",
      "metadata": {
        "id": "DO2mKvh6H1sx",
        "colab_type": "text"
      },
      "source": [
        "Python **does not** require a main function - **but** it's a good idea to include one. There's a few reasons for this, but it's an implementation detail that's not worth going into right at the moment. Instead, consider this your boilerplate to start your Python programs:"
      ]
    },
    {
      "cell_type": "code",
      "metadata": {
        "id": "kwRRstV_IQ_j",
        "colab_type": "code",
        "colab": {}
      },
      "source": [
        "def main():\n",
        "  '''Main function of the program described here'''\n",
        "  pass\n",
        "\n",
        "# Other functions defined here - no prototypes needed!\n",
        "\n",
        "# Call main function if this program is run at the terminal\n",
        "if (__name__ == \"__main__\"):\n",
        "  main()"
      ],
      "execution_count": 0,
      "outputs": []
    },
    {
      "cell_type": "markdown",
      "metadata": {
        "id": "pnJRW-FkI4lP",
        "colab_type": "text"
      },
      "source": [
        "There are a lot more details than I can cover concisely here, so I'm going to leave with one last suggestion - practice reading Python documentation and Google (stackoverflow) search results. You can find a ton of information about Python very easily!"
      ]
    },
    {
      "cell_type": "markdown",
      "metadata": {
        "id": "RILCrO42JSOS",
        "colab_type": "text"
      },
      "source": [
        "### **Print Formatting**"
      ]
    },
    {
      "cell_type": "markdown",
      "metadata": {
        "id": "LFsP910oJaBO",
        "colab_type": "text"
      },
      "source": [
        "The Python print function does a lot of fun things that the C printf function doesn't. Here are some basic things to look for.\n",
        "\n",
        "**C Code for printing only the value of variables:**\n",
        "```\n",
        "int i = 10;\n",
        "printf(\"%i\\n\", i);\n",
        "```\n",
        "**Python:**"
      ]
    },
    {
      "cell_type": "code",
      "metadata": {
        "id": "iK0SAmReJwDT",
        "colab_type": "code",
        "colab": {}
      },
      "source": [
        "i = 10\n",
        "print(i)"
      ],
      "execution_count": 0,
      "outputs": []
    },
    {
      "cell_type": "markdown",
      "metadata": {
        "id": "esikf0C_J6X9",
        "colab_type": "text"
      },
      "source": [
        "What about printing 10 hashtags on a line followed by a newline?\n",
        "\n",
        "**C Code:**\n",
        "```\n",
        "for (int i = 0; i < 10; i++)\n",
        "{\n",
        "    printf(\"#\");\n",
        "}\n",
        "printf(\"\\n\")\n",
        "```\n",
        "**Python Code:**"
      ]
    },
    {
      "cell_type": "code",
      "metadata": {
        "id": "X-zSSRuCKO6b",
        "colab_type": "code",
        "outputId": "a1846b95-445f-4e53-9160-920a6f283b23",
        "colab": {
          "base_uri": "https://localhost:8080/",
          "height": 34
        }
      },
      "source": [
        "print('#' * 10)"
      ],
      "execution_count": 0,
      "outputs": [
        {
          "output_type": "stream",
          "text": [
            "##########\n"
          ],
          "name": "stdout"
        }
      ]
    },
    {
      "cell_type": "markdown",
      "metadata": {
        "id": "IKWtfZuDKbC9",
        "colab_type": "text"
      },
      "source": [
        "What about some more complicated printing of the values of variables combined with text?\n",
        "\n",
        "**C Code:**\n",
        "```\n",
        "int i = 7;\n",
        "string test = \"Bond\";\n",
        "printf(\"Agent %03i is %s, James %s.\", i, test, test);\n",
        "```\n",
        "**Python Code:**"
      ]
    },
    {
      "cell_type": "code",
      "metadata": {
        "id": "a4tCrVlsLmw9",
        "colab_type": "code",
        "outputId": "1b1adfae-195b-4845-e84e-dd412c9b916b",
        "colab": {
          "base_uri": "https://localhost:8080/",
          "height": 34
        }
      },
      "source": [
        "i = 7\n",
        "test = 'Bond'\n",
        "print(\"Agent {:03} is {}, James {}.\".format(i, test, test))"
      ],
      "execution_count": 0,
      "outputs": [
        {
          "output_type": "stream",
          "text": [
            "Agent 007 is Bond, James Bond.\n"
          ],
          "name": "stdout"
        }
      ]
    },
    {
      "cell_type": "markdown",
      "metadata": {
        "id": "f9UFhE2EMuve",
        "colab_type": "text"
      },
      "source": [
        "There are a number of other ways of acccomplishing the above, but this is a pretty consistent way to accomplish printing exactly what you're after. As your want to print things, look at documentation!"
      ]
    },
    {
      "cell_type": "markdown",
      "metadata": {
        "id": "_4wnHO5MZE3m",
        "colab_type": "text"
      },
      "source": [
        "### **Modules and Input**"
      ]
    },
    {
      "cell_type": "markdown",
      "metadata": {
        "id": "UP4RRGSkZI50",
        "colab_type": "text"
      },
      "source": [
        "In C, we relied on a few libraries fairly heavily. Python is, in a basic sense, less reliant on libraries, called **modules** in Python. However, Python has many more useful modules available than C, so in practice, Python will use them more depending on the task at hand. The most common module we will use is the \"cs50\" module, which is the corollary of the cs50.h library in C.\n",
        "\n",
        "C Code:\n",
        "```\n",
        "#include <cs50.h>\n",
        "```\n",
        "This gave us access to functions like get_int, get_str, and others that we used fairly heavily. In Python, we have a similar library (NOTE - this won't work in the Jupyter Notebook here since the cs50 module isn't installed here. This will work in your IDE though!)\n"
      ]
    },
    {
      "cell_type": "code",
      "metadata": {
        "id": "QUbEqSdUZ8vI",
        "colab_type": "code",
        "outputId": "4cb99fba-0654-4e14-8a8b-c0f6b54b055a",
        "colab": {
          "base_uri": "https://localhost:8080/",
          "height": 317
        }
      },
      "source": [
        "import cs50\n",
        "cs50.get_int(\"Integer Please:\")"
      ],
      "execution_count": 0,
      "outputs": [
        {
          "output_type": "error",
          "ename": "ModuleNotFoundError",
          "evalue": "ignored",
          "traceback": [
            "\u001b[0;31m---------------------------------------------------------------------------\u001b[0m",
            "\u001b[0;31mModuleNotFoundError\u001b[0m                       Traceback (most recent call last)",
            "\u001b[0;32m<ipython-input-1-49d2d124f668>\u001b[0m in \u001b[0;36m<module>\u001b[0;34m()\u001b[0m\n\u001b[0;32m----> 1\u001b[0;31m \u001b[0;32mimport\u001b[0m \u001b[0mcs50\u001b[0m\u001b[0;34m\u001b[0m\u001b[0;34m\u001b[0m\u001b[0m\n\u001b[0m\u001b[1;32m      2\u001b[0m \u001b[0mcs50\u001b[0m\u001b[0;34m.\u001b[0m\u001b[0mget_int\u001b[0m\u001b[0;34m(\u001b[0m\u001b[0;34m\"Integer Please:\"\u001b[0m\u001b[0;34m)\u001b[0m\u001b[0;34m\u001b[0m\u001b[0;34m\u001b[0m\u001b[0m\n",
            "\u001b[0;31mModuleNotFoundError\u001b[0m: No module named 'cs50'",
            "",
            "\u001b[0;31m---------------------------------------------------------------------------\u001b[0;32m\nNOTE: If your import is failing due to a missing package, you can\nmanually install dependencies using either !pip or !apt.\n\nTo view examples of installing some common dependencies, click the\n\"Open Examples\" button below.\n\u001b[0;31m---------------------------------------------------------------------------\u001b[0m\n"
          ]
        }
      ]
    },
    {
      "cell_type": "markdown",
      "metadata": {
        "id": "UgzfJHDXaDFw",
        "colab_type": "text"
      },
      "source": [
        "Note the syntax here - it is similar to using methods on some data type. In this case, use MODULENAME.FUNCTION() to access the functions defined for you. This can be modified using the import command a little bit differently:"
      ]
    },
    {
      "cell_type": "code",
      "metadata": {
        "id": "Q3VvfcHjaTof",
        "colab_type": "code",
        "outputId": "3b3c48b0-a62b-4528-a8b3-f080041199ec",
        "colab": {
          "base_uri": "https://localhost:8080/",
          "height": 317
        }
      },
      "source": [
        "from cs50 import *\n",
        "get_int(\"Integer Please:\")"
      ],
      "execution_count": 0,
      "outputs": [
        {
          "output_type": "error",
          "ename": "ModuleNotFoundError",
          "evalue": "ignored",
          "traceback": [
            "\u001b[0;31m---------------------------------------------------------------------------\u001b[0m",
            "\u001b[0;31mModuleNotFoundError\u001b[0m                       Traceback (most recent call last)",
            "\u001b[0;32m<ipython-input-2-f326530fbae6>\u001b[0m in \u001b[0;36m<module>\u001b[0;34m()\u001b[0m\n\u001b[0;32m----> 1\u001b[0;31m \u001b[0;32mfrom\u001b[0m \u001b[0mcs50\u001b[0m \u001b[0;32mimport\u001b[0m \u001b[0;34m*\u001b[0m\u001b[0;34m\u001b[0m\u001b[0;34m\u001b[0m\u001b[0m\n\u001b[0m\u001b[1;32m      2\u001b[0m \u001b[0mget_int\u001b[0m\u001b[0;34m(\u001b[0m\u001b[0;34m\"Integer Please:\"\u001b[0m\u001b[0;34m)\u001b[0m\u001b[0;34m\u001b[0m\u001b[0;34m\u001b[0m\u001b[0m\n",
            "\u001b[0;31mModuleNotFoundError\u001b[0m: No module named 'cs50'",
            "",
            "\u001b[0;31m---------------------------------------------------------------------------\u001b[0;32m\nNOTE: If your import is failing due to a missing package, you can\nmanually install dependencies using either !pip or !apt.\n\nTo view examples of installing some common dependencies, click the\n\"Open Examples\" button below.\n\u001b[0;31m---------------------------------------------------------------------------\u001b[0m\n"
          ]
        }
      ]
    },
    {
      "cell_type": "markdown",
      "metadata": {
        "id": "tN0in-8NaZxD",
        "colab_type": "text"
      },
      "source": [
        "While we are using the cs50 module to control user input (these functions ensure that the user gave you what you asked for!), the default method of taking in data in Python is using the input() function:\n"
      ]
    },
    {
      "cell_type": "code",
      "metadata": {
        "id": "w23GaJd9an6G",
        "colab_type": "code",
        "colab": {}
      },
      "source": [
        "test = input(\"Integer Please\")\n",
        "type(test)"
      ],
      "execution_count": 0,
      "outputs": []
    },
    {
      "cell_type": "markdown",
      "metadata": {
        "id": "eHT7VBdsaxmL",
        "colab_type": "text"
      },
      "source": [
        "Notice that the input function by default returns a string datatype! You would have to change this to an integer, which can be problematic if the user doesn't give you an integer to work with..."
      ]
    },
    {
      "cell_type": "code",
      "metadata": {
        "id": "9uCzA6nzbcOf",
        "colab_type": "code",
        "outputId": "2617787d-483b-49ff-edc7-8c9c2c4b8d60",
        "colab": {
          "base_uri": "https://localhost:8080/"
        }
      },
      "source": [
        "test = \"hello\"\n",
        "test = int(test)"
      ],
      "execution_count": 0,
      "outputs": [
        {
          "output_type": "error",
          "ename": "ValueError",
          "evalue": "ignored",
          "traceback": [
            "\u001b[0;31m---------------------------------------------------------------------------\u001b[0m",
            "\u001b[0;31mValueError\u001b[0m                                Traceback (most recent call last)",
            "\u001b[0;32m<ipython-input-2-520d7001e0ac>\u001b[0m in \u001b[0;36m<module>\u001b[0;34m()\u001b[0m\n\u001b[1;32m      1\u001b[0m \u001b[0mtest\u001b[0m \u001b[0;34m=\u001b[0m \u001b[0;34m\"hello\"\u001b[0m\u001b[0;34m\u001b[0m\u001b[0;34m\u001b[0m\u001b[0m\n\u001b[0;32m----> 2\u001b[0;31m \u001b[0mtest\u001b[0m \u001b[0;34m=\u001b[0m \u001b[0mint\u001b[0m\u001b[0;34m(\u001b[0m\u001b[0mtest\u001b[0m\u001b[0;34m)\u001b[0m\u001b[0;34m\u001b[0m\u001b[0;34m\u001b[0m\u001b[0m\n\u001b[0m",
            "\u001b[0;31mValueError\u001b[0m: invalid literal for int() with base 10: 'hello'"
          ]
        }
      ]
    },
    {
      "cell_type": "markdown",
      "metadata": {
        "id": "QZp6QsKtbg96",
        "colab_type": "text"
      },
      "source": [
        "While cs50 is the primary module you'll take advantage of, there are many others out there. **Pandas** is a great module for doing statistics, **matplotlib** can help make graphs and charts, **tkinter** for making basic graphics, or **TensorFlow** for doing some machine learning work."
      ]
    },
    {
      "cell_type": "markdown",
      "metadata": {
        "id": "UsPw08ZWNFH8",
        "colab_type": "text"
      },
      "source": [
        "### **Python Data Structures**"
      ]
    },
    {
      "cell_type": "markdown",
      "metadata": {
        "id": "PLcO-nDyN_63",
        "colab_type": "text"
      },
      "source": [
        "**Arrays/Lists**\n",
        "\n",
        "In C, we were limited to either arrays or data structures we could create ourselves using structs. Python has more options vailable to us, and it handles them in more powerful ways.\n",
        "<br>\n",
        "In C, you must declare type of data in the list - and only one type is permitted. Similarly, with the tools available to us, list size was fixed - we couldn't easily add/remove items once we created an array to hold a specific number of objects. Python does away with these restrictions.\n",
        "\n",
        "Creating and assigning an array in C looked like this:\n",
        "```\n",
        "// Create an array of 5 integers\n",
        "int array[5];\n",
        "// Assign individual elements\n",
        "array[0] = 5;\n",
        "```\n",
        "Python lets us do this in much more interesting ways:\n",
        "\n",
        "\n",
        "\n"
      ]
    },
    {
      "cell_type": "code",
      "metadata": {
        "id": "I2TAbdEs1NzK",
        "colab_type": "code",
        "outputId": "bb014ed5-b655-4671-8fa9-eaf7e470cfb5",
        "colab": {
          "base_uri": "https://localhost:8080/",
          "height": 67
        }
      },
      "source": [
        "# Create empty list\n",
        "array = []\n",
        "# Add an item to the list\n",
        "array.append(7)\n",
        "array.append(13)\n",
        "array.append(42)\n",
        "array.append(\"Python rocks!\")\n",
        "print(\"After adding items: {}\".format(array))\n",
        "# Remove an item from the list\n",
        "test = array.pop()\n",
        "print(\"After removing: {}\".format(array))\n",
        "# The .pop() method returns a value - so it's fine to assign it!\n",
        "print(\"array.pop() returned the value {}!\".format(test))"
      ],
      "execution_count": 0,
      "outputs": [
        {
          "output_type": "stream",
          "text": [
            "After adding items: [7, 13, 42, 'Python rocks!']\n",
            "After removing: [7, 13, 42]\n",
            "array.pop() returned the value Python rocks!!\n"
          ],
          "name": "stdout"
        }
      ]
    },
    {
      "cell_type": "markdown",
      "metadata": {
        "id": "Y9GFMWih1-Wk",
        "colab_type": "text"
      },
      "source": [
        "The VARIABLENAME.FUNCTION syntax is how we refer to **methods**. Methods are functions that act on a particular type of data - in this case, lists. Googling for python list methods will give you a host of useful methods for working with lists. Similarly, most other data structures that you encounter in Python will have methods that function on them. This includes dictionaries (as described below) and strings. Be sure to take a look at these methods via Googling or looking at the Python Documentation.\n",
        "\n",
        "Just to give you some other ideas for how Python handles lists - here's using a **list comprehension** to build a list."
      ]
    },
    {
      "cell_type": "code",
      "metadata": {
        "id": "UZy1PInv4f1g",
        "colab_type": "code",
        "outputId": "184dd3d0-c410-4ea4-ae5d-fef03bfcf618",
        "colab": {
          "base_uri": "https://localhost:8080/",
          "height": 34
        }
      },
      "source": [
        "list = [2*x for x in range(10)]\n",
        "print(list)"
      ],
      "execution_count": 0,
      "outputs": [
        {
          "output_type": "stream",
          "text": [
            "[0, 2, 4, 6, 8, 10, 12, 14, 16, 18]\n"
          ],
          "name": "stdout"
        }
      ]
    },
    {
      "cell_type": "markdown",
      "metadata": {
        "id": "VARIJJqP5LpY",
        "colab_type": "text"
      },
      "source": [
        "**Tuples**\n",
        "\n",
        "Tuples are similar to lists in concept, but are IMMUTABLE - you can't change the values of a tuple once they've been created. At our level, this distinction doesn't mean much, but it does help you frame how you think about the data structure.\n",
        "\n",
        "**Dictionaries**\n",
        "\n",
        "Dictionaries are a much more important data structure in Python. You can think about them like any other dictionary - keys and values associated with those keys are stored. At the level we are working with, using a dictionary may not be necessary, but dictionaries have some important properties when you start thinking about run time of algorithms. Looking up values in a dictionary is super-quick! The more general term for these dictionaries (in any language) is a hash table.\n",
        "\n",
        "**Classes**\n",
        "\n",
        "Much like C allowed us to create our own data types using structs, Python allows similar work to be done with creating Classes. Classes are much more powerful than structs, however. Structs in C allowed only the creation of a \"wrapper\" for a particular type of data. Classes allow you to create the concept of an \"object\" that can have propreties (types of data) and methods (functions) that act on that object's data. The existence of classes is one reason Python is referred to as an \"Object-Oriented\" programming language."
      ]
    },
    {
      "cell_type": "markdown",
      "metadata": {
        "id": "gpIOIyCLEuHN",
        "colab_type": "text"
      },
      "source": [
        "### **Selection/Branching and Boolean Conditions**"
      ]
    },
    {
      "cell_type": "markdown",
      "metadata": {
        "id": "mtoBB3SvEyBg",
        "colab_type": "text"
      },
      "source": [
        "Making decisions in Python is almost identical to making decisions in C. Python does not have a built in switch, so it relies on if, elif (else if), and else statements. Creating Boolean conditions is, again, very similar to C and perhaps even easier.\n",
        "\n",
        "C Code:\n",
        "```\n",
        "int a = 5;\n",
        "if (a < 10 && (a % 2) == 1)\n",
        "{\n",
        "    printf(\"Odd less than 10\\n\");\n",
        "}\n",
        "else if (a < 10)\n",
        "{\n",
        "    printf(\"Even less than 10\\n\");\n",
        "}\n",
        "else if (a % 2 == 1)\n",
        "{\n",
        "    printf(\"Odd greater than 10\\n\");\n",
        "}\n",
        "else\n",
        "{\n",
        "    printf(\"Even greater than 10\\n\");\n",
        "}\n",
        "```\n",
        "Python Equivalent:\n"
      ]
    },
    {
      "cell_type": "code",
      "metadata": {
        "id": "Lb2v7z4HlReN",
        "colab_type": "code",
        "outputId": "2b600314-33bd-4dcd-dcb1-743bfd68039c",
        "colab": {
          "base_uri": "https://localhost:8080/",
          "height": 34
        }
      },
      "source": [
        "a = 12\n",
        "if (a < 10 and (a % 2) == 1):\n",
        "    print(\"Odd less than 10\")\n",
        "elif (a < 10):\n",
        "    print(\"Even less than 10\")\n",
        "elif (a % 2 == 1):\n",
        "    print(\"Odd greater than 10\")\n",
        "else:\n",
        "    print(\"Even greater than 10\")"
      ],
      "execution_count": 0,
      "outputs": [
        {
          "output_type": "stream",
          "text": [
            "Even greater than 10\n"
          ],
          "name": "stdout"
        }
      ]
    },
    {
      "cell_type": "markdown",
      "metadata": {
        "id": "m71iK6GMlsi8",
        "colab_type": "text"
      },
      "source": [
        "Note in the above code that in Python a boolean and is just the word \"and\". Same idea for \"or\". The only other difference is C uses \"else if\" whereas Python uses \"elif\""
      ]
    },
    {
      "cell_type": "markdown",
      "metadata": {
        "id": "6fOccWS_Afnr",
        "colab_type": "text"
      },
      "source": [
        "### **Looping**"
      ]
    },
    {
      "cell_type": "markdown",
      "metadata": {
        "id": "HxUQ62LdBL8J",
        "colab_type": "text"
      },
      "source": [
        "Python has only two types of loops (as opposed to the 3 that C has) - but for loops in particular are much more powerful and flexible.\n",
        "\n",
        "A basic C for loop looks like this:\n",
        "```\n",
        "for (int i = 0; i < 10; i++)\n",
        "{\n",
        "    printf(\"%i\\n\", i);\n",
        "}\n",
        "```\n",
        "The equivalent loop in Python is:"
      ]
    },
    {
      "cell_type": "code",
      "metadata": {
        "id": "fM8h3clUBgsG",
        "colab_type": "code",
        "outputId": "a4b4680f-2adf-4488-c513-ee16a27115d2",
        "colab": {
          "base_uri": "https://localhost:8080/",
          "height": 185
        }
      },
      "source": [
        "for i in range(10):\n",
        "    print(i)"
      ],
      "execution_count": 0,
      "outputs": [
        {
          "output_type": "stream",
          "text": [
            "0\n",
            "1\n",
            "2\n",
            "3\n",
            "4\n",
            "5\n",
            "6\n",
            "7\n",
            "8\n",
            "9\n"
          ],
          "name": "stdout"
        }
      ]
    },
    {
      "cell_type": "markdown",
      "metadata": {
        "id": "MRpTiS2zl5B4",
        "colab_type": "text"
      },
      "source": [
        "Similarly, if we wanted a loop that counts by 3s starting at 2:\n",
        "C Code:\n",
        "```\n",
        "for (int i = 2; i < 20; i = i + 3)\n",
        "{\n",
        "    printf(\"%i\\n\", i);\n",
        "}\n",
        "```\n",
        "Python Code:"
      ]
    },
    {
      "cell_type": "code",
      "metadata": {
        "id": "4dUhUNUZmFIR",
        "colab_type": "code",
        "outputId": "381f98a9-8d74-4a86-96fb-755a404b83fe",
        "colab": {
          "base_uri": "https://localhost:8080/",
          "height": 118
        }
      },
      "source": [
        "for i in range(2, 20, 3):\n",
        "  print(i)"
      ],
      "execution_count": 0,
      "outputs": [
        {
          "output_type": "stream",
          "text": [
            "2\n",
            "5\n",
            "8\n",
            "11\n",
            "14\n",
            "17\n"
          ],
          "name": "stdout"
        }
      ]
    },
    {
      "cell_type": "markdown",
      "metadata": {
        "id": "mbteGyqZB7m9",
        "colab_type": "text"
      },
      "source": [
        "However, here are some other examples of for loops in Python that work with any \"iterable\" data structure (lists, tuples, dictionaries to some extent, strings, and some others)."
      ]
    },
    {
      "cell_type": "code",
      "metadata": {
        "id": "28N2h3n8CKbS",
        "colab_type": "code",
        "outputId": "f29ec6f2-3a0b-4c34-f1c7-1957b28ca357",
        "colab": {
          "base_uri": "https://localhost:8080/",
          "height": 134
        }
      },
      "source": [
        "cheeses = [\"Gouda\", \"Cheedar\", \"Brie\", \"Feta\", \"Goat\", \"Havarti\", \"Swiss\"]\n",
        "for cheese in cheeses:\n",
        "    print(\"I like {}!\".format(cheese))\n",
        "\n"
      ],
      "execution_count": 0,
      "outputs": [
        {
          "output_type": "stream",
          "text": [
            "I like Gouda!\n",
            "I like Cheedar!\n",
            "I like Brie!\n",
            "I like Feta!\n",
            "I like Goat!\n",
            "I like Havarti!\n",
            "I like Swiss!\n"
          ],
          "name": "stdout"
        }
      ]
    },
    {
      "cell_type": "code",
      "metadata": {
        "id": "GLwuKsNqCb-D",
        "colab_type": "code",
        "outputId": "7f60fe99-1029-4f9e-d412-26a04b5b4ac9",
        "colab": {
          "base_uri": "https://localhost:8080/",
          "height": 134
        }
      },
      "source": [
        "cheeses = [\"Gouda\", \"Cheedar\", \"Brie\", \"Feta\", \"Goat\", \"Havarti\", \"Swiss\"]\n",
        "for index, cheese in enumerate(cheeses):\n",
        "  print('Cheese #{} is {}!'.format(index, cheese))"
      ],
      "execution_count": 0,
      "outputs": [
        {
          "output_type": "stream",
          "text": [
            "Cheese #0 is Gouda!\n",
            "Cheese #1 is Cheedar!\n",
            "Cheese #2 is Brie!\n",
            "Cheese #3 is Feta!\n",
            "Cheese #4 is Goat!\n",
            "Cheese #5 is Havarti!\n",
            "Cheese #6 is Swiss!\n"
          ],
          "name": "stdout"
        }
      ]
    },
    {
      "cell_type": "code",
      "metadata": {
        "id": "ej-oVE37C30B",
        "colab_type": "code",
        "outputId": "0f7e0561-ebb1-4ce4-f5d6-2f3df04aff1c",
        "colab": {
          "base_uri": "https://localhost:8080/",
          "height": 34
        }
      },
      "source": [
        "string = \"I love Python!\"\n",
        "for char in string:\n",
        "  print(\"{}\".format(ord(char)), end = \" \")\n",
        "print()"
      ],
      "execution_count": 0,
      "outputs": [
        {
          "output_type": "stream",
          "text": [
            "73 32 108 111 118 101 32 80 121 116 104 111 110 33 \n"
          ],
          "name": "stdout"
        }
      ]
    },
    {
      "cell_type": "markdown",
      "metadata": {
        "id": "sXaXNeSUDNbV",
        "colab_type": "text"
      },
      "source": [
        "Aren't Python for loops awesome? Also note the trick with printing in the last example!\n",
        "\n",
        "While loops also exist in Python, and they function largely the same way as while loops in C.\n",
        "\n",
        "C Example:\n",
        "```\n",
        "int a = 0;\n",
        "while (a < 10)\n",
        "{\n",
        "    printf(\"%i\\n\", a);\n",
        "    a++;\n",
        "}\n",
        "```\n",
        "Python Equivalent:"
      ]
    },
    {
      "cell_type": "code",
      "metadata": {
        "id": "HHicB5gvEYlS",
        "colab_type": "code",
        "outputId": "ffdd478f-8ae0-4b35-c9bc-881b462be347",
        "colab": {
          "base_uri": "https://localhost:8080/",
          "height": 185
        }
      },
      "source": [
        "a = 0\n",
        "while (a < 10):\n",
        "    print(a)\n",
        "    a += 1"
      ],
      "execution_count": 0,
      "outputs": [
        {
          "output_type": "stream",
          "text": [
            "0\n",
            "1\n",
            "2\n",
            "3\n",
            "4\n",
            "5\n",
            "6\n",
            "7\n",
            "8\n",
            "9\n"
          ],
          "name": "stdout"
        }
      ]
    },
    {
      "cell_type": "markdown",
      "metadata": {
        "id": "xIyS9B-DEpYd",
        "colab_type": "text"
      },
      "source": [
        "Python does not have a \"do-while\" loop as C does."
      ]
    }
  ]
}